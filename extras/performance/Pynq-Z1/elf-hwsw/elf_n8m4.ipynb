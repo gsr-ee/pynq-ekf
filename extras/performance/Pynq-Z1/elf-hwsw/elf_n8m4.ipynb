{
 "cells": [
  {
   "cell_type": "markdown",
   "metadata": {},
   "source": [
    "# ELF n8m4\n",
    "SDSoC generated ELF for n8m4 design"
   ]
  },
  {
   "cell_type": "markdown",
   "metadata": {},
   "source": [
    "## 1. Load Bitstream:\n",
    "This is how we allocate contiguous memory and bind to C-callable libraries."
   ]
  },
  {
   "cell_type": "code",
   "execution_count": 1,
   "metadata": {},
   "outputs": [
    {
     "data": {
      "application/javascript": [
       "\n",
       "require(['notebook/js/codecell'], function(codecell) {\n",
       "  codecell.CodeCell.options_default.highlight_modes[\n",
       "      'magic_text/x-csrc'] = {'reg':[/^%%microblaze/]};\n",
       "  Jupyter.notebook.events.one('kernel_ready.Kernel', function(){\n",
       "      Jupyter.notebook.get_cells().map(function(cell){\n",
       "          if (cell.cell_type == 'code'){ cell.auto_highlight(); } }) ;\n",
       "  });\n",
       "});\n"
      ]
     },
     "metadata": {},
     "output_type": "display_data"
    }
   ],
   "source": [
    "from pynq import Overlay\n",
    "bitstream = \"/home/xilinx/jupyter_notebooks/pynq-ekf/extras/performance/Pynq-Z1/elf-hwsw/ekf_n8m4.bit\"\n",
    "ol = Overlay(bitstream)"
   ]
  },
  {
   "cell_type": "markdown",
   "metadata": {},
   "source": [
    "## 2. Run:"
   ]
  },
  {
   "cell_type": "code",
   "execution_count": 2,
   "metadata": {},
   "outputs": [
    {
     "name": "stdout",
     "output_type": "stream",
     "text": [
      "[0] 0.588776 -0.989257 -0.040040\r\n",
      "[1] 0.895048 -1.026895 0.352711\r\n",
      "[2] 1.139653 -0.993543 0.604451\r\n",
      "[3] 1.297425 -0.790873 0.746711\r\n",
      "[4] 1.500475 -1.142175 0.839441\r\n",
      "[5] 1.705769 -1.531603 0.821386\r\n",
      "[6] 1.863240 -1.962531 1.229077\r\n",
      "[7] 1.656377 -2.516546 1.703730\r\n",
      "[8] 2.249233 -2.785407 2.147984\r\n",
      "[9] 2.266950 -3.096566 2.438112\r\n",
      "[10] 2.755712 -3.327271 2.456101\r\n",
      "[11] 2.537525 -3.616902 2.224311\r\n",
      "[12] 3.075142 -3.824168 2.265718\r\n",
      "[13] 3.049583 -3.888800 3.471112\r\n",
      "[14] 3.411098 -4.341346 3.298792\r\n",
      "[15] 3.211215 -4.152427 2.495743\r\n",
      "[16] 3.500007 -4.115411 2.856374\r\n",
      "[17] 3.939634 -4.480880 2.479291\r\n",
      "[18] 3.650035 -4.368868 2.852113\r\n",
      "[19] 3.792807 -4.857598 3.286309\r\n",
      "[20] 4.178391 -5.363132 3.789181\r\n",
      "[21] 4.502639 -5.731408 4.571362\r\n",
      "[22] 4.517277 -5.836937 4.785766\r\n",
      "[23] 4.806390 -6.341663 4.886966\r\n",
      "[24] 5.034021 -6.570765 4.932207\r\n",
      "[25] 5.069762 -6.644536 5.092077\r\n",
      "[26] 5.363154 -7.038198 5.161676\r\n",
      "[27] 5.853237 -7.074479 5.246592\r\n",
      "[28] 6.204195 -6.958825 5.364847\r\n",
      "[29] 5.688426 -7.464438 5.762911\r\n",
      "[30] 5.946548 -7.022572 5.940680\r\n",
      "[31] 6.087549 -7.345529 6.097014\r\n",
      "[32] 6.524412 -8.398534 6.094093\r\n",
      "[33] 6.761880 -8.721241 6.091168\r\n",
      "[34] 6.944899 -8.824430 6.553060\r\n",
      "[35] 7.168185 -8.688239 6.980659\r\n",
      "[36] 7.369220 -8.446538 7.224975\r\n",
      "[37] 8.277151 -8.483644 7.123330\r\n",
      "[38] 9.094246 -8.515917 7.196839\r\n",
      "[39] 8.868682 -8.857591 7.505310\r\n",
      "[40] 8.582342 -8.961770 7.536454\r\n",
      "[41] 8.640600 -9.381562 7.654595\r\n",
      "[42] 9.264575 -9.494561 7.880153\r\n",
      "[43] 10.217453 -9.171972 8.521327\r\n",
      "[44] 9.979894 -9.191848 8.650640\r\n",
      "[45] 9.734818 -9.391207 8.940120\r\n",
      "[46] 10.196696 -9.905901 8.998163\r\n",
      "[47] 10.133553 -10.251569 9.416852\r\n",
      "[48] 10.039535 -9.972413 9.641990\r\n",
      "[49] 10.101641 -10.462322 10.150885\r\n",
      "Finished EKF\r\n",
      "time = 0.002597 s\r\n"
     ]
    }
   ],
   "source": [
    "! ./ekf_n8m4.elf"
   ]
  },
  {
   "cell_type": "code",
   "execution_count": null,
   "metadata": {},
   "outputs": [],
   "source": []
  }
 ],
 "metadata": {
  "kernelspec": {
   "display_name": "Python 3",
   "language": "python",
   "name": "python3"
  },
  "language_info": {
   "codemirror_mode": {
    "name": "ipython",
    "version": 3
   },
   "file_extension": ".py",
   "mimetype": "text/x-python",
   "name": "python",
   "nbconvert_exporter": "python",
   "pygments_lexer": "ipython3",
   "version": "3.6.0"
  }
 },
 "nbformat": 4,
 "nbformat_minor": 2
}
