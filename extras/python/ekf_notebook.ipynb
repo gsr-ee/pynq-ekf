{
 "cells": [
  {
   "cell_type": "markdown",
   "metadata": {},
   "source": [
    "# EKF Dataset and Python Implementation"
   ]
  },
  {
   "cell_type": "code",
   "execution_count": 1,
   "metadata": {},
   "outputs": [
    {
     "ename": "ModuleNotFoundError",
     "evalue": "No module named 'tinyekf'",
     "output_type": "error",
     "traceback": [
      "\u001b[0;31m---------------------------------------------------------------------------\u001b[0m",
      "\u001b[0;31mModuleNotFoundError\u001b[0m                       Traceback (most recent call last)",
      "\u001b[0;32m<ipython-input-1-8c9e6be6adcf>\u001b[0m in \u001b[0;36m<module>\u001b[0;34m()\u001b[0m\n\u001b[1;32m      1\u001b[0m \u001b[0;32mimport\u001b[0m \u001b[0mnumpy\u001b[0m \u001b[0;32mas\u001b[0m \u001b[0mnp\u001b[0m\u001b[0;34m\u001b[0m\u001b[0m\n\u001b[0;32m----> 2\u001b[0;31m \u001b[0;32mfrom\u001b[0m \u001b[0mtinyekf\u001b[0m \u001b[0;32mimport\u001b[0m \u001b[0mEKF\u001b[0m\u001b[0;34m\u001b[0m\u001b[0m\n\u001b[0m\u001b[1;32m      3\u001b[0m \u001b[0;32mfrom\u001b[0m \u001b[0mtime\u001b[0m \u001b[0;32mimport\u001b[0m \u001b[0msleep\u001b[0m\u001b[0;34m\u001b[0m\u001b[0m\n\u001b[1;32m      4\u001b[0m \u001b[0;32mfrom\u001b[0m \u001b[0mmath\u001b[0m \u001b[0;32mimport\u001b[0m \u001b[0msin\u001b[0m\u001b[0;34m,\u001b[0m \u001b[0mcos\u001b[0m\u001b[0;34m,\u001b[0m \u001b[0mpi\u001b[0m\u001b[0;34m,\u001b[0m \u001b[0mradians\u001b[0m\u001b[0;34m\u001b[0m\u001b[0m\n\u001b[1;32m      5\u001b[0m \u001b[0;32mimport\u001b[0m \u001b[0mcsv\u001b[0m\u001b[0;34m\u001b[0m\u001b[0m\n",
      "\u001b[0;31mModuleNotFoundError\u001b[0m: No module named 'tinyekf'"
     ]
    }
   ],
   "source": [
    "import numpy as np\n",
    "from tinyekf import EKF\n",
    "from time import sleep\n",
    "from math import sin, cos, pi, radians\n",
    "import csv\n",
    "from mpl_toolkits.mplot3d import Axes3D\n",
    "import matplotlib.pyplot as plt\n",
    "\n",
    "np.random.seed(43)"
   ]
  },
  {
   "cell_type": "markdown",
   "metadata": {},
   "source": [
    "### 1. Generate a Dataset\n",
    "Define some helper functions:"
   ]
  },
  {
   "cell_type": "code",
   "execution_count": null,
   "metadata": {},
   "outputs": [],
   "source": [
    "# linear motion\n",
    "def linear_motion(x0, grad, N=100):\n",
    "    data = []\n",
    "    for i in range(N):\n",
    "        x0 = x0 + np.array(grad)\n",
    "        data.append(x0)\n",
    "    return np.array(data)\n",
    "\n",
    "\n",
    "# circular motion\n",
    "def circular_motion(center, radius=10, omega=0.1, N=100):\n",
    "    \"\"\"\n",
    "    centre: (x, y, z) centre of rotation\n",
    "    radius: radius of rotation\n",
    "    omega: angular velocity\n",
    "    \"\"\"\n",
    "    sgn = np.random.randint(2, size=3)*2 -1\n",
    "    center_of_rotation_x = center[0]\n",
    "    center_of_rotation_y = center[1]\n",
    "    center_of_rotation_z = center[2]\n",
    "    angle = radians(45)  #pi/4 # starting angle 45 degrees\n",
    "    \n",
    "    x = center_of_rotation_x + sgn[0] * radius * cos(angle) #Starting position x\n",
    "    y = center_of_rotation_y + sgn[1] * radius * sin(angle) #Starting position y\n",
    "    z = center_of_rotation_z + sgn[2] * radius * cos(angle) #Starting position y\n",
    "\n",
    "    data = np.zeros((N, 3))\n",
    "    for i in range(N):\n",
    "        angle = angle + omega  # New angle, we add angular velocity\n",
    "        x = x + sgn[0] * radius * omega * cos(angle + pi / 2) # New x\n",
    "        y = y + sgn[1] * radius * omega * sin(angle + pi / 2) # New y\n",
    "        z = z + sgn[2] * radius * omega * cos(angle + pi / 4) # New z\n",
    "        data[i][0] = x\n",
    "        data[i][1] = y\n",
    "        data[i][2] = z\n",
    "    return data\n",
    "\n",
    "def euclidean_distance(x0, x1, bias=0):\n",
    "    dx = x0 - x1\n",
    "    dx2 = dx**2\n",
    "    dist = np.sqrt(np.sum(dx2, axis=1)) + bias\n",
    "    return dist\n",
    "    "
   ]
  },
  {
   "cell_type": "markdown",
   "metadata": {},
   "source": [
    "State = \n",
    "    1. Receiver position (linear motion)\n",
    "    2. Receiver velocity (first derivative)\n",
    "\n",
    "Observations =\n",
    "    1. Satellite position (circular motion)\n",
    "    2. Rho (euclidean distance from receiver)"
   ]
  },
  {
   "cell_type": "code",
   "execution_count": null,
   "metadata": {},
   "outputs": [],
   "source": [
    "# create receiver positions \n",
    "rx0 = np.random.randn(3) # initial position\n",
    "rx_data = linear_motion(rx0, [0.2, -0.2, 0.2] , N=100)\n",
    "\n",
    "# create satellite positions\n",
    "st0 = np.random.randn(4, 3)\n",
    "#sat1 = linear_motion(st0[0, :], [0.08, -0.1, 0.02], N=100)\n",
    "#sat2 = linear_motion(st0[1, :], [0.02, 0.1, -0.2], N=100)\n",
    "#sat3 = linear_motion(st0[2, :], [-0.4, 0.1, 0.02], N=100)\n",
    "#sat4 = linear_motion(st0[3, :], [0.3, -0.1, 0.22], N=100)\n",
    "\n",
    "sat1 = circular_motion(st0[0, :], N=100)\n",
    "sat2 = circular_motion(st0[1, :], N=100)\n",
    "sat3 = circular_motion(st0[2, :], N=100)\n",
    "sat4 = circular_motion(st0[3, :], N=100)\n",
    "\n",
    "\n",
    "# calculate the observed rho\n",
    "rho1 = euclidean_distance(rx_data, sat1, bias=0.02)\n",
    "rho2 = euclidean_distance(rx_data, sat2, bias=0.02)\n",
    "rho3 = euclidean_distance(rx_data, sat3, bias=0.02)\n",
    "rho4 = euclidean_distance(rx_data, sat4, bias=0.02)\n",
    "\n",
    "# add white noise to measurements\n",
    "sigma = 5e-1\n",
    "mu = 0.0\n",
    "sat1 = sat1 + np.random.normal(mu,sigma,(100,3))\n",
    "sat2 = sat2 + np.random.normal(mu,sigma,(100,3))\n",
    "sat3 = sat3 + np.random.normal(mu,sigma,(100,3))\n",
    "sat4 = sat4 + np.random.normal(mu,sigma,(100,3))\n",
    "rho1 = rho1 + np.random.normal(mu,sigma,100)\n",
    "rho2 = rho2 + np.random.normal(mu,sigma,100)\n",
    "rho3 = rho3 + np.random.normal(mu,sigma,100)\n",
    "rho4 = rho4 + np.random.normal(mu,sigma,100)\n",
    "\n",
    "# merge dataset\n",
    "data = np.hstack((sat1, sat2))\n",
    "data = np.hstack((data, sat3))\n",
    "data = np.hstack((data, sat4))\n",
    "rho = np.array([rho1, rho2, rho3, rho4]).T\n",
    "data = np.hstack((data, rho)).astype(np.float32)\n",
    "\n",
    "header=\"x1, y1, z1, x2, y2, z2, x3, y3, z3, x4, y4, z4, r1, r2, r3, r4\"\n",
    "np.savetxt(\"gps_data.csv\", data, fmt=\"%.6f\", delimiter=\",\", header=header, comments=\"\")"
   ]
  },
  {
   "cell_type": "markdown",
   "metadata": {},
   "source": [
    "### 2. Visualise the Dataset"
   ]
  },
  {
   "cell_type": "code",
   "execution_count": null,
   "metadata": {},
   "outputs": [],
   "source": [
    "data = np.loadtxt(\"gps_data.csv\", delimiter=\",\", skiprows=1)\n",
    "\n",
    "fig = plt.figure()\n",
    "ax = fig.gca(projection='3d')\n",
    "ax.set_title(\"Satellite 1,2,3,4 Motion\")\n",
    "ax.plot(data[:, 0], data[:, 1], data[:, 2])\n",
    "ax.plot(data[:, 3], data[:, 4], data[:, 5])\n",
    "ax.plot(data[:, 6], data[:, 7], data[:, 8])\n",
    "ax.plot(data[:, 9], data[:, 10], data[:, 11])\n",
    "ax.set_xlabel(\"X\")\n",
    "ax.set_ylabel(\"Y\")\n",
    "ax.set_zlabel(\"Z\")\n",
    "ax.set_axis_off\n",
    "\n",
    "plt.show()\n"
   ]
  },
  {
   "cell_type": "code",
   "execution_count": null,
   "metadata": {},
   "outputs": [],
   "source": [
    "plt.figure()\n",
    "\n",
    "plt.title(\"Measured Rho\")\n",
    "\n",
    "x = np.arange(len(data))\n",
    "\n",
    "plt.plot(x, data[:, 12], \"r\") \n",
    "plt.plot(x, data[:, 13], \"b\") \n",
    "plt.plot(x, data[:, 14], \"g\") \n",
    "plt.plot(x, data[:, 15], \"k\") \n",
    "plt.show()"
   ]
  },
  {
   "cell_type": "code",
   "execution_count": null,
   "metadata": {},
   "outputs": [],
   "source": [
    "plt.figure()\n",
    "plt.title(\"Actual Receiver Position\")\n",
    "\n",
    "x = np.arange(len(data))\n",
    "\n",
    "plt.plot(x, rx_data[:, 0], \"r\")\n",
    "plt.plot(x, rx_data[:, 1], \"b\") \n",
    "plt.plot(x, rx_data[:, 2], \"g\") \n",
    "plt.show()"
   ]
  },
  {
   "cell_type": "markdown",
   "metadata": {},
   "source": [
    "We don't observe the actual receiver position. Rather, we use an Extended Kalman Filter to predict the receiver's position given noisy measurements for the satellite and rho."
   ]
  },
  {
   "cell_type": "markdown",
   "metadata": {},
   "source": [
    "### 3. Extended Kalman Filter (EKF)"
   ]
  },
  {
   "cell_type": "code",
   "execution_count": null,
   "metadata": {},
   "outputs": [],
   "source": [
    "def initQ():\n",
    "    T = 1\n",
    "    Sf = 0.1\n",
    "    Sg = 0.01\n",
    "    sigma = 0.5\n",
    "    Qb1 = np.array([[Sf*T + Sg*T*T*T/3., Sg*T*T/2.],\n",
    "                    [Sg*T*T/2., Sg*T]])\n",
    "    Qb2 = np.array([[sigma*sigma*T*T*T/3., sigma*sigma*T*T/2.],\n",
    "                    [sigma*sigma*T*T/2., sigma*sigma*T]])\n",
    "    z0 = np.zeros((2, 2))\n",
    "\n",
    "    Q = np.block([[Qb2, z0, z0, z0],\n",
    "                 [z0, Qb2, z0, z0],\n",
    "                 [z0, z0, Qb2, z0],\n",
    "                 [z0, z0, z0, Qb1]])\n",
    "    return Q\n",
    "\n",
    "\n",
    "class GPS_EKF(EKF):\n",
    "\n",
    "    def __init__(self):\n",
    "\n",
    "        EKF.__init__(self, 8, 4, pval=0.5, qval=0.1, rval=20.0)\n",
    "        self.x = np.array([rx0[0], 0.3,\n",
    "                           rx0[1], -0.1,\n",
    "                           rx0[2], 0.3,\n",
    "                           0.02, 0])\n",
    "        self.x = self.x\n",
    "        #self.Q = initQ()\n",
    "\n",
    "    def f(self, x, **kwargs):\n",
    "        a = np.array([[1, 1], [0, 1]])\n",
    "        F = np.kron(np.eye(4), a)\n",
    "        x = np.dot(x, F.T)\n",
    "        return x, F\n",
    "\n",
    "\n",
    "    def h(self, x, **kwargs):\n",
    "\n",
    "        if \"SV_pos\" not in kwargs:\n",
    "            raise RuntimeError(\"Satellite positions required for observation \"\n",
    "                               \"model\")\n",
    "        SV_pos = kwargs.get(\"SV_pos\")\n",
    "\n",
    "        # unpack state vector\n",
    "        xyz = np.array([x[0], x[2], x[4]])\n",
    "        bias = x[6]\n",
    "        \n",
    "        # pseudorange equation: hx = || xyz - SV_pos || + bias\n",
    "        dx = xyz - SV_pos\n",
    "        dx2 = dx**2\n",
    "        hx = np.sqrt(np.sum(dx2, axis=1)) + bias\n",
    "\n",
    "        H = np.zeros((4, 8))\n",
    "        for i in range(4):\n",
    "            for j in range(3):\n",
    "                idx = 2*j\n",
    "                H[i][idx] = dx[i][j]/hx[i]\n",
    "            H[i][6] = 1\n",
    "\n",
    "        return hx, H"
   ]
  },
  {
   "cell_type": "code",
   "execution_count": null,
   "metadata": {},
   "outputs": [],
   "source": [
    "ekf = GPS_EKF()\n",
    "data = np.loadtxt(\"gps_data.csv\", delimiter=\",\", skiprows=1)\n",
    "rx_pos = np.zeros((len(data), 3))\n",
    "\n",
    "for i, line in enumerate(data):\n",
    "      \n",
    "    # unpack sensor data\n",
    "    SV_pos = np.array(line[:12]).astype(np.float32).reshape(4,3)\n",
    "    SV_rho = np.array(line[12:]).astype(np.float32)\n",
    "\n",
    "    # Run the EKF on the satellite position and psuedorange measurements,\n",
    "    # getting back an updated state estimate. Take only the receiver\n",
    "    # position. ignoring velocity etc.\n",
    "    state, hx = ekf.step(SV_rho, SV_pos=SV_pos)\n",
    "    #print(\"MSE: \", np.mean( (SV_rho - hx)**2 ))\n",
    "    \n",
    "    # save filtered (x,y,z) co-ordinates of receiver\n",
    "    rx_pos[i][0] = state[0]\n",
    "    rx_pos[i][1] = state[2]\n",
    "    rx_pos[i][2] = state[4]"
   ]
  },
  {
   "cell_type": "code",
   "execution_count": null,
   "metadata": {},
   "outputs": [],
   "source": [
    "plt.figure()\n",
    "plt.title(\"Filtered Receiver Position\")\n",
    "\n",
    "x = np.arange(len(rx_pos))\n",
    "\n",
    "plt.plot(x, rx_pos[:, 0], \"r\")\n",
    "plt.plot(x, rx_pos[:, 1], \"b\") \n",
    "plt.plot(x, rx_pos[:, 2], \"g\") \n",
    "plt.show()"
   ]
  },
  {
   "cell_type": "code",
   "execution_count": null,
   "metadata": {},
   "outputs": [],
   "source": [
    "rx_pos[:25]"
   ]
  },
  {
   "cell_type": "code",
   "execution_count": null,
   "metadata": {},
   "outputs": [],
   "source": [
    "rx0"
   ]
  },
  {
   "cell_type": "code",
   "execution_count": null,
   "metadata": {},
   "outputs": [],
   "source": []
  }
 ],
 "metadata": {
  "kernelspec": {
   "display_name": "Python 3",
   "language": "python",
   "name": "python3"
  },
  "language_info": {
   "codemirror_mode": {
    "name": "ipython",
    "version": 3
   },
   "file_extension": ".py",
   "mimetype": "text/x-python",
   "name": "python",
   "nbconvert_exporter": "python",
   "pygments_lexer": "ipython3",
   "version": "3.6.0"
  }
 },
 "nbformat": 4,
 "nbformat_minor": 2
}
