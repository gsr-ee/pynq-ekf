{
 "cells": [
  {
   "cell_type": "code",
   "execution_count": null,
   "metadata": {},
   "outputs": [],
   "source": [
    "import numpy as np\n",
    "from pynq import Overlay, Xlnk\n",
    "import cffi\n",
    "\n",
    "bitstream = \"/usr/local/lib/python3.6/dist-packages/ekf/hw-sw/ekf_n8m4.bit\"\n",
    "library = \"/usr/local/lib/python3.6/dist-packages/ekf/hw-sw/libekf_n8m4.so\"\n",
    "ffi_interface = \"void _p0_top_ekf_1_noasync(int obs[4], int fx_i[8], int hx_i[4], int F_i[64], int H_i[32], int params[144], int output[8], int ctrl, int w1, int w2);\"\n",
    "\n",
    "ol = Overlay(bitstream)\n",
    "ol.download()\n",
    "ffi = cffi.FFI()\n",
    "interface = ffi.dlopen(library)\n",
    "ffi.cdef(ffi_interface)\n",
    "xlnk = Xlnk()"
   ]
  }
 ],
 "metadata": {
  "kernelspec": {
   "display_name": "Python 3",
   "language": "python",
   "name": "python3"
  },
  "language_info": {
   "codemirror_mode": {
    "name": "ipython",
    "version": 3
   },
   "file_extension": ".py",
   "mimetype": "text/x-python",
   "name": "python",
   "nbconvert_exporter": "python",
   "pygments_lexer": "ipython3",
   "version": "3.6.5"
  }
 },
 "nbformat": 4,
 "nbformat_minor": 2
}
