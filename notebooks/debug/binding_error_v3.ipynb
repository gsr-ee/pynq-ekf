{
 "cells": [
  {
   "cell_type": "code",
   "execution_count": null,
   "metadata": {},
   "outputs": [],
   "source": [
    "import numpy as np\n",
    "from ekf.gps_ekf import GPS_EKF, GPS_EKF_HWSW\n",
    "\n",
    "data = np.loadtxt(\"gps_data.csv\", delimiter=\",\", skiprows=1)\n",
    "\n",
    "ekf = GPS_EKF_HWSW(8, 4, qval=0.1, rval=20.0, pval=0.5)\n",
    "ekf.set_state(np.array([0.2574, 0.3, -0.908482, -0.1, -0.378503, 0.3, 0.02, 0.0]))\n",
    "\n",
    "res_sw = ekf.run_sw(data)\n",
    "ekf.set_state(np.array([0.2574, 0.3, -0.908482, -0.1, -0.378503, 0.3, 0.02, 0.0]))\n",
    "res_hw = ekf.run_hw(data)\n",
    "print(\"Equal: \", np.allclose(res_sw, ekf.toFloat(res_hw), rtol=1e-2))"
   ]
  }
 ],
 "metadata": {
  "kernelspec": {
   "display_name": "Python 3",
   "language": "python",
   "name": "python3"
  },
  "language_info": {
   "codemirror_mode": {
    "name": "ipython",
    "version": 3
   },
   "file_extension": ".py",
   "mimetype": "text/x-python",
   "name": "python",
   "nbconvert_exporter": "python",
   "pygments_lexer": "ipython3",
   "version": "3.6.5"
  }
 },
 "nbformat": 4,
 "nbformat_minor": 2
}
