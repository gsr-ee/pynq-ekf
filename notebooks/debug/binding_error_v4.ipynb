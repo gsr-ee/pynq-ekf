{
 "cells": [
  {
   "cell_type": "code",
   "execution_count": 1,
   "metadata": {},
   "outputs": [
    {
     "data": {
      "application/javascript": [
       "\n",
       "require(['notebook/js/codecell'], function(codecell) {\n",
       "  codecell.CodeCell.options_default.highlight_modes[\n",
       "      'magic_text/x-csrc'] = {'reg':[/^%%microblaze/]};\n",
       "  Jupyter.notebook.events.one('kernel_ready.Kernel', function(){\n",
       "      Jupyter.notebook.get_cells().map(function(cell){\n",
       "          if (cell.cell_type == 'code'){ cell.auto_highlight(); } }) ;\n",
       "  });\n",
       "});\n"
      ]
     },
     "metadata": {},
     "output_type": "display_data"
    }
   ],
   "source": [
    "import numpy as np\n",
    "from ekf.gps_ekf import GPS_EKF, GPS_EKF_HWSW"
   ]
  },
  {
   "cell_type": "code",
   "execution_count": 2,
   "metadata": {},
   "outputs": [],
   "source": [
    "data = np.loadtxt(\"gps_data.csv\", delimiter=\",\", skiprows=1)"
   ]
  },
  {
   "cell_type": "code",
   "execution_count": 3,
   "metadata": {},
   "outputs": [],
   "source": [
    "ekf = GPS_EKF_HWSW(8, 4, qval=0.1, rval=20.0, pval=0.5)\n",
    "ekf.set_state(np.array([0.2574, 0.3, -0.908482, -0.1, -0.378503, 0.3, 0.02, 0.0]))"
   ]
  },
  {
   "cell_type": "code",
   "execution_count": 4,
   "metadata": {},
   "outputs": [
    {
     "name": "stdout",
     "output_type": "stream",
     "text": [
      "Equal:  True\n"
     ]
    }
   ],
   "source": [
    "res_sw = ekf.run_sw(data)\n",
    "ekf.set_state(np.array([0.2574, 0.3, -0.908482, -0.1, -0.378503, 0.3, 0.02, 0.0]))\n",
    "res_hw = ekf.run_hw(data)\n",
    "print(\"Equal: \", np.allclose(res_sw, ekf.toFloat(res_hw), rtol=1e-2))"
   ]
  },
  {
   "cell_type": "code",
   "execution_count": 5,
   "metadata": {},
   "outputs": [],
   "source": [
    "ekf.reset()\n",
    "res_hw = ekf.run_hw(data)"
   ]
  },
  {
   "cell_type": "code",
   "execution_count": 6,
   "metadata": {},
   "outputs": [
    {
     "name": "stdout",
     "output_type": "stream",
     "text": [
      "Time taken by software 3 times 0.08280489600019791\n",
      "Time taken by hardware 3 times 19.42368257699991\n",
      "HW Speedup = 0.00x\n"
     ]
    }
   ],
   "source": [
    "import timeit\n",
    "number=3\n",
    "ekf.reset()\n",
    "\n",
    "def hwresp():\n",
    "    y=ekf.run_hw(data)\n",
    "    return\n",
    "\n",
    "hw_time = timeit.timeit(hwresp, number=number)\n",
    "\n",
    "def swresp():\n",
    "    y=ekf.run_sw(data)\n",
    "    return\n",
    "\n",
    "sw_time = timeit.timeit(swresp,number=number)\n",
    "\n",
    "print(\"Time taken by software\", number,\"times\",sw_time)\n",
    "print(\"Time taken by hardware\", number,\"times\",hw_time)\n",
    "print(\"HW Speedup = %.2fx\"%(sw_time/hw_time))"
   ]
  },
  {
   "cell_type": "code",
   "execution_count": 7,
   "metadata": {},
   "outputs": [],
   "source": [
    "ekf.xlnk.xlnk_reset()"
   ]
  },
  {
   "cell_type": "code",
   "execution_count": 8,
   "metadata": {},
   "outputs": [],
   "source": [
    "ekf = GPS_EKF(8, 4, qval=0.1, rval=20.0, pval=0.5)\n",
    "ekf.set_state(np.array([0.25739993, 0.3, -0.90848143, -0.1, -0.37850311, 0.3, 0.02, 0]))\n",
    "res_sw = ekf.run_sw(data)"
   ]
  },
  {
   "cell_type": "code",
   "execution_count": 9,
   "metadata": {},
   "outputs": [
    {
     "name": "stdout",
     "output_type": "stream",
     "text": [
      "Equal:  True\n"
     ]
    }
   ],
   "source": [
    "from rig.type_casts import NumpyFloatToFixConverter, NumpyFixToFloatConverter\n",
    "toFixed = NumpyFloatToFixConverter(signed=True, n_bits=32, n_frac=20)\n",
    "toFloat = NumpyFixToFloatConverter(20)\n",
    "\n",
    "data_hw = toFixed(data)\n",
    "data_hw = ekf.copy_array(data_hw)\n",
    "ekf = ekf.configure()\n",
    "res_hw = ekf.run_hw(data_hw)\n",
    "res_hw = toFloat(res_hw)\n",
    "print(\"Equal: \", np.allclose(res_sw, res_hw, rtol=1e-2))"
   ]
  },
  {
   "cell_type": "code",
   "execution_count": 10,
   "metadata": {},
   "outputs": [
    {
     "name": "stdout",
     "output_type": "stream",
     "text": [
      "Time taken by software 20 times 0.745586930999707\n",
      "Time taken by hardware 20 times 0.013550889000271127\n",
      "HW Speedup = 55.02x\n"
     ]
    }
   ],
   "source": [
    "import timeit\n",
    "number=20\n",
    "\n",
    "def hwresp():\n",
    "    y=ekf.run_hw(data_hw)\n",
    "    return\n",
    "\n",
    "hw_time = timeit.timeit(hwresp,number=number)\n",
    "\n",
    "def swresp():\n",
    "    y=ekf.run_sw(data)\n",
    "    return\n",
    "\n",
    "sw_time = timeit.timeit(swresp,number=number)\n",
    "\n",
    "print(\"Time taken by software\", number,\"times\",sw_time)\n",
    "print(\"Time taken by hardware\", number,\"times\",hw_time)\n",
    "print(\"HW Speedup = %.2fx\"%(sw_time/hw_time))"
   ]
  },
  {
   "cell_type": "code",
   "execution_count": 11,
   "metadata": {},
   "outputs": [],
   "source": [
    "ekf.xlnk.xlnk_reset()"
   ]
  }
 ],
 "metadata": {
  "kernelspec": {
   "display_name": "Python 3",
   "language": "python",
   "name": "python3"
  },
  "language_info": {
   "codemirror_mode": {
    "name": "ipython",
    "version": 3
   },
   "file_extension": ".py",
   "mimetype": "text/x-python",
   "name": "python",
   "nbconvert_exporter": "python",
   "pygments_lexer": "ipython3",
   "version": "3.6.5"
  }
 },
 "nbformat": 4,
 "nbformat_minor": 2
}
