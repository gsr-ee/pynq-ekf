{
 "cells": [
  {
   "cell_type": "code",
   "execution_count": 1,
   "metadata": {},
   "outputs": [
    {
     "data": {
      "application/javascript": [
       "\n",
       "require(['notebook/js/codecell'], function(codecell) {\n",
       "  codecell.CodeCell.options_default.highlight_modes[\n",
       "      'magic_text/x-csrc'] = {'reg':[/^%%microblaze/]};\n",
       "  Jupyter.notebook.events.one('kernel_ready.Kernel', function(){\n",
       "      Jupyter.notebook.get_cells().map(function(cell){\n",
       "          if (cell.cell_type == 'code'){ cell.auto_highlight(); } }) ;\n",
       "  });\n",
       "});\n"
      ]
     },
     "metadata": {},
     "output_type": "display_data"
    }
   ],
   "source": [
    "import numpy as np\n",
    "from pynq import Overlay, Xlnk\n",
    "import cffi\n",
    "\n",
    "bitstream = \"/usr/local/lib/python3.6/dist-packages/ekf/hw-sw/ekf_n8m4.bit\"\n",
    "library = \"/usr/local/lib/python3.6/dist-packages/ekf/hw-sw/libekf_n8m4.so\"\n",
    "ffi_interface = \"void _p0_top_ekf_1_noasync(int obs[4], int fx_i[8], int hx_i[4], int F_i[64], int H_i[32], int params[144], int output[8], int ctrl, int w1, int w2);\"\n",
    "\n",
    "ol = Overlay(bitstream)\n",
    "ol.download()\n",
    "ffi = cffi.FFI()\n",
    "interface = ffi.dlopen(library)\n",
    "ffi.cdef(ffi_interface)\n",
    "xlnk = Xlnk()"
   ]
  },
  {
   "cell_type": "code",
   "execution_count": 8,
   "metadata": {},
   "outputs": [
    {
     "name": "stdout",
     "output_type": "stream",
     "text": [
      "<class 'pynq.xlnk.ContiguousArray'> (144,) <cdata 'void *' 0x7f81aa5000> [191568  32028  96182]\n"
     ]
    }
   ],
   "source": [
    "a = xlnk.cma_array(shape=(4,), dtype=np.int32)\n",
    "np.copyto(a, np.random.randint(321231, size=4) )\n",
    "\n",
    "b = xlnk.cma_array(shape=(8,), dtype=np.int32)\n",
    "np.copyto(b, np.random.randint(321231, size=8) )\n",
    "\n",
    "c = xlnk.cma_array(shape=(4,), dtype=np.int32)\n",
    "np.copyto(c, np.random.randint(321231, size=4) )\n",
    "\n",
    "d = xlnk.cma_array(shape=(64,), dtype=np.int32)\n",
    "np.copyto(d, np.random.randint(321231, size=64) )\n",
    "\n",
    "e = xlnk.cma_array(shape=(32,), dtype=np.int32)\n",
    "np.copyto(e, np.random.randint(321231, size=32) )\n",
    "\n",
    "f = xlnk.cma_array(shape=(144,), dtype=np.int32)\n",
    "np.copyto(f, np.random.randint(321231, size=144) )\n",
    "\n",
    "g = xlnk.cma_array(shape=(8,), dtype=np.int32)\n",
    "np.copyto(g, np.random.randint(321231, size=8) )\n",
    "\n",
    "ctrl = 0\n",
    "w1 = 8\n",
    "w2 = 4\n",
    "\n",
    "#sanity check\n",
    "print(type(f), f.shape, f.pointer, f[:3])"
   ]
  },
  {
   "cell_type": "code",
   "execution_count": null,
   "metadata": {},
   "outputs": [],
   "source": [
    "interface._p0_top_ekf_1_noasync(a.pointer, b.pointer, c.pointer, d.pointer, e.pointer, f.pointer, h.pointer, ctrl, w1, w2)\n",
    "\n",
    "ctrl = 1\n",
    "w1=8 \n",
    "w2=4\n",
    "\n",
    "for i in range(50):\n",
    "    a = xlnk.cma_array(shape=(4,), dtype=np.int32)\n",
    "    np.copyto(a, np.random.randint(321231, size=4) )\n",
    "    b = xlnk.cma_array(shape=(8,), dtype=np.int32)\n",
    "    np.copyto(b, np.random.randint(321231, size=8) )\n",
    "    c = xlnk.cma_array(shape=(4,), dtype=np.int32)\n",
    "    np.copyto(c, np.random.randint(321231, size=4) )\n",
    "    d = xlnk.cma_array(shape=(64,), dtype=np.int32)\n",
    "    np.copyto(d, np.random.randint(321231, size=64) )\n",
    "    e = xlnk.cma_array(shape=(32,), dtype=np.int32)\n",
    "    np.copyto(e, np.random.randint(321231, size=32) )\n",
    "    f = xlnk.cma_array(shape=(144,), dtype=np.int32)\n",
    "    np.copyto(f, np.random.randint(321231, size=144) )\n",
    "    g = xlnk.cma_array(shape=(8,), dtype=np.int32)\n",
    "    np.copyto(g, np.random.randint(321231, size=8) )\n",
    "    \n",
    "    interface._p0_top_ekf_1_noasync(a.pointer, b.pointer, c.pointer, d.pointer, e.pointer, f.pointer, h.pointer, ctrl, w1, w2)"
   ]
  }
 ],
 "metadata": {
  "kernelspec": {
   "display_name": "Python 3",
   "language": "python",
   "name": "python3"
  },
  "language_info": {
   "codemirror_mode": {
    "name": "ipython",
    "version": 3
   },
   "file_extension": ".py",
   "mimetype": "text/x-python",
   "name": "python",
   "nbconvert_exporter": "python",
   "pygments_lexer": "ipython3",
   "version": "3.6.5"
  }
 },
 "nbformat": 4,
 "nbformat_minor": 2
}
