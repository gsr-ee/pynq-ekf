{
 "cells": [
  {
   "cell_type": "markdown",
   "metadata": {},
   "source": [
    "# Python Cache/Memory Error\n",
    "\n",
    "This notebook replicates the problem being seen when the SDSoC hardware function is called in a loop, and some computation on the input and outputs is being done in Python each iteration. The aim is to replicate the issue in as few lines as possible."
   ]
  },
  {
   "cell_type": "markdown",
   "metadata": {},
   "source": [
    "## 1. Load Bitstream and setup Xlnk and CFFI interfaces:\n",
    "This is how we allocate contiguous memory and bind to C-callable libraries."
   ]
  },
  {
   "cell_type": "code",
   "execution_count": 1,
   "metadata": {},
   "outputs": [
    {
     "data": {
      "application/javascript": [
       "\n",
       "require(['notebook/js/codecell'], function(codecell) {\n",
       "  codecell.CodeCell.options_default.highlight_modes[\n",
       "      'magic_text/x-csrc'] = {'reg':[/^%%microblaze/]};\n",
       "  Jupyter.notebook.events.one('kernel_ready.Kernel', function(){\n",
       "      Jupyter.notebook.get_cells().map(function(cell){\n",
       "          if (cell.cell_type == 'code'){ cell.auto_highlight(); } }) ;\n",
       "  });\n",
       "});\n"
      ]
     },
     "metadata": {},
     "output_type": "display_data"
    }
   ],
   "source": [
    "from pynq import Overlay, PL, Xlnk\n",
    "import cffi\n",
    "\n",
    "bitstream = \"/home/xilinx/jupyter_notebooks/pynq-ekf/extras/cache-error/ekf_n2m2.bit\"\n",
    "library = \"/home/xilinx/jupyter_notebooks/pynq-ekf/extras/cache-error/libekf_n2m2.so\"\n",
    "ffi_interface = \"void _p0_top_ekf_1_noasync(int obs[2], int fx_i[2], int hx_i[2], int F_i[4], int H_i[4], int params[14], int output[2], int ctrl, int w1, int w2);\"\n",
    "\n",
    "# Download bitstream\n",
    "ol = Overlay(bitstream)\n",
    "\n",
    "# Setup CFFI and Xlnk\n",
    "_ffi = cffi.FFI()\n",
    "interface = _ffi.dlopen(library)\n",
    "_ffi.cdef(ffi_interface)\n",
    "xlnk = Xlnk()"
   ]
  },
  {
   "cell_type": "markdown",
   "metadata": {},
   "source": [
    "## 2. Error Function:\n",
    "This function does the following:\n",
    "\n",
    "1. Allocates contiguous memory buffer, and then in a loop:\n",
    "2. Copies data into buffer\n",
    "3. FPGA accelerator reads from and writes to buffer\n",
    "\n",
    "This is about the smallest amount of code required to replicate the error."
   ]
  },
  {
   "cell_type": "code",
   "execution_count": 2,
   "metadata": {},
   "outputs": [],
   "source": [
    "import os\n",
    "import numpy as np\n",
    "\n",
    "def run():\n",
    "    \n",
    "    #reset xlnk\n",
    "    xlnk.xlnk_reset()\n",
    "    \n",
    "    # max_val\n",
    "    max_val=2147483647\n",
    "    \n",
    "    # set rng\n",
    "    np.random.seed(23)\n",
    "      \n",
    "    # I/O buffers\n",
    "    outData = xlnk.cma_array(shape=(100, 2), dtype=np.int32)\n",
    "    inData = xlnk.cma_array(shape=(2,), dtype=np.int32)\n",
    "    params = xlnk.cma_array(shape=(14,), dtype=np.int32)\n",
    "    F = xlnk.cma_array(shape=(4,), dtype=np.int32)\n",
    "    H = xlnk.cma_array(shape=(4,), dtype=np.int32)\n",
    "    fx = xlnk.cma_array(shape=(2,), dtype=np.int32)\n",
    "    hx = xlnk.cma_array(shape=(2,), dtype=np.int32)\n",
    "    \n",
    "    np.copyto(params, np.random.randint(max_val, size=14, dtype=np.int32))\n",
    "    np.copyto(F, np.random.randint(max_val, size=4, dtype=np.int32))\n",
    "    np.copyto(H, np.random.randint(max_val, size=4, dtype=np.int32))    \n",
    "    np.copyto(fx, np.zeros(2).astype(np.int32))\n",
    "    np.copyto(hx, np.zeros(2).astype(np.int32))\n",
    "\n",
    "    #-------------------------------------------------------------------------\n",
    "    \n",
    "    # Algorithm starts\n",
    "    np.copyto(inData, np.random.randint(max_val, size=2, dtype=np.int32))\n",
    "    np.copyto(fx, np.random.randint(max_val, size=2, dtype=np.int32))\n",
    "    np.copyto(hx, np.random.randint(max_val, size=2, dtype=np.int32))\n",
    "\n",
    "    offset = 0\n",
    "    out_ptr = outData.pointer + offset\n",
    "\n",
    "    interface._p0_top_ekf_1_noasync(inData.pointer, fx.pointer,\n",
    "                                                 hx.pointer, F.pointer,\n",
    "                                                 H.pointer, params.pointer,\n",
    "                                                 out_ptr, 0, 2, 2)\n",
    "    for i in range(99):\n",
    "        #os.system(\"sh -c 'sync; echo 3 > /proc/sys/vm/drop_caches' \")\n",
    "        \n",
    "        np.copyto(inData, np.random.randint(max_val, size=2, dtype=np.int32))\n",
    "        np.copyto(fx, np.random.randint(max_val, size=2, dtype=np.int32))\n",
    "        np.copyto(hx, np.random.randint(max_val, size=2, dtype=np.int32))\n",
    "\n",
    "        offset += 8\n",
    "        out_ptr = outData.pointer + offset\n",
    "\n",
    "        interface._p0_top_ekf_1_noasync(inData.pointer, fx.pointer,\n",
    "                                                 hx.pointer, F.pointer,\n",
    "                                                 H.pointer, params.pointer,\n",
    "                                                 out_ptr, 1, 2, 2)\n",
    "\n",
    "    return outData"
   ]
  },
  {
   "cell_type": "markdown",
   "metadata": {},
   "source": [
    "## 3. Checking the error:\n",
    "\n",
    "We can execute `def run()` twice, and check for equivalence. If the cache is cleared each iteration using `os.system(\"sh -c 'sync; echo 3 > /proc/sys/vm/drop_caches' \")` then we get identical results."
   ]
  },
  {
   "cell_type": "code",
   "execution_count": 3,
   "metadata": {},
   "outputs": [
    {
     "name": "stdout",
     "output_type": "stream",
     "text": [
      "True\n"
     ]
    }
   ],
   "source": [
    "out = run()\n",
    "outA = out*1 # fromBuffer\n",
    "\n",
    "out = run()\n",
    "outB = out*1 # fromBuffer\n",
    "\n",
    "print(np.array_equal(outA, outB))"
   ]
  },
  {
   "cell_type": "markdown",
   "metadata": {},
   "source": [
    "We can also print the errors and outputs:"
   ]
  },
  {
   "cell_type": "code",
   "execution_count": 4,
   "metadata": {},
   "outputs": [
    {
     "name": "stdout",
     "output_type": "stream",
     "text": [
      "[0 0 0 0 0 0 0 0 0 0 0 0 0 0 0 0 0 0 0 0 0 0 0 0 0 0 0 0 0 0 0 0 0 0 0 0 0\n",
      " 0 0 0 0 0 0 0 0 0 0 0 0 0 0 0 0 0 0 0 0 0 0 0 0 0 0 0 0 0 0 0 0 0 0 0 0 0\n",
      " 0 0 0 0 0 0 0 0 0 0 0 0 0 0 0 0 0 0 0 0 0 0 0 0 0 0]\n",
      "[-1658762079  1373097320  1686997839  -604786714   214072831  -537726990\n",
      "  1281104970  1943631315 -1735902993   494108635  1082973484  1934139322\n",
      " -1756123439  -702183237  -563006125 -1169906626  1450915096  1873140528\n",
      "   707351511  2146224642]\n",
      "[-1658762079  1373097320  1686997839  -604786714   214072831  -537726990\n",
      "  1281104970  1943631315 -1735902993   494108635  1082973484  1934139322\n",
      " -1756123439  -702183237  -563006125 -1169906626  1450915096  1873140528\n",
      "   707351511  2146224642]\n"
     ]
    }
   ],
   "source": [
    "print((outA-outB)[:,0])\n",
    "print((outA)[-20:,0])\n",
    "print((outB)[-20:,0])"
   ]
  },
  {
   "cell_type": "markdown",
   "metadata": {},
   "source": [
    "## 4. C Code:\n",
    "This problem does not occur when compiling an equivalent C program."
   ]
  },
  {
   "cell_type": "markdown",
   "metadata": {},
   "source": [
    "## 4. Solution:\n",
    "Ensure that only HP ports are used. \n",
    "\n",
    "`#pragma SDS data mem_attribute(x: PHYSICAL_CONTIGUOUS|NON_CACHEABLE, y: PHYSICAL_CONTIGUOUS|NON_CACHEABLE)`"
   ]
  }
 ],
 "metadata": {
  "kernelspec": {
   "display_name": "Python 3",
   "language": "python",
   "name": "python3"
  },
  "language_info": {
   "codemirror_mode": {
    "name": "ipython",
    "version": 3
   },
   "file_extension": ".py",
   "mimetype": "text/x-python",
   "name": "python",
   "nbconvert_exporter": "python",
   "pygments_lexer": "ipython3",
   "version": "3.6.0"
  }
 },
 "nbformat": 4,
 "nbformat_minor": 2
}
