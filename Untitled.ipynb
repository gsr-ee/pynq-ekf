{
 "cells": [
  {
   "cell_type": "markdown",
   "metadata": {},
   "source": [
    "# EKF Background\n",
    "\n",
    "This document provides additional notes and slides on the Kalman Filter and Extended Kalman Filter. Much of the theory was taken from this [online course](http://ais.informatik.uni-freiburg.de/teaching/ws13/mapping/), but the notation has been adjusted to be consistent with our designs.\n",
    "\n",
    "## Inroduction:\n",
    "\n",
    "The Kalman Filter (KF) and Extended Kalman Filter (EKF) are recursive state estimators for linear and non-linear systems with additive white noise. Kalman Filters are popular in edge applications because their computation involves only matrix arithmetic which is efficient to implement on most modern processors. KF's are also optimal estimators. This is because linear functions of Gaussian variables are themselves Gaussian which means that probability distribution functions (pdf's) can be computed exactly, without relying on approximations (eg. sampling, linearisation). On the otherhand, Extended Kalman Filters deal with systems which are non-linear and are thus much better suited to many real-world applications. They assume Gaussian pdf's by linearising a non-linear function about an estimate of the input's mean and covariance. This maintains much of the computational benefits of the Kalman Filter, but introduces an extra computational step involving partial derviatives and Jacobian matrices.\n",
    "\n",
    "## Where to Start?\n",
    "\n",
    "For Kalman Filters (KF and EKF) to be effective, there needs to exist a reasonably accurate dynamical model of the system in question. This requires a set of states and input variables to be defined, where the states are the variables to be estimated. For example, if we are trying to estimate the position of a moving vehicle, position and velocity could be our states while the wind resistance, traction and mass of the vehicle could be treated as inputs. \n",
    "\n",
    "Once the system variables are well understood, two equations need to be defined.     \n",
    "\n",
    "\n",
    "## Everything is Gaussian:\n",
    "\n",
    "Kalman Filters assume all system variables and equations are Gaussian distributed. This gives rise to the simple set of matrix eq\n",
    "\n",
    "\n",
    "    x - state\n",
    "        μ - mean\n",
    "        P - covariance    \n",
    "    Q - process covariance  \n",
    "    R - observation covariance\n",
    "        \n",
    "    \n",
    "\n",
    "\n",
    "So in summary, we need to:\n",
    "\n",
    "1. Define/describe a system using a dynamical model consisting of states and other input variables.\n",
    "\n",
    "2. State Equation\n",
    "\n",
    "3. Observation Equation\n",
    "\n",
    "\n",
    "Kalman Filtering requires reasonably accurate characterisations of system dynamics."
   ]
  },
  {
   "cell_type": "code",
   "execution_count": null,
   "metadata": {},
   "outputs": [],
   "source": []
  }
 ],
 "metadata": {
  "kernelspec": {
   "display_name": "Python 3",
   "language": "python",
   "name": "python3"
  },
  "language_info": {
   "codemirror_mode": {
    "name": "ipython",
    "version": 3
   },
   "file_extension": ".py",
   "mimetype": "text/x-python",
   "name": "python",
   "nbconvert_exporter": "python",
   "pygments_lexer": "ipython3",
   "version": "3.6.0"
  }
 },
 "nbformat": 4,
 "nbformat_minor": 2
}
